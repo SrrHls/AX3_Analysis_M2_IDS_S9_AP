{
 "cells": [
  {
   "cell_type": "markdown",
   "metadata": {},
   "source": []
  },
  {
   "cell_type": "markdown",
   "metadata": {},
   "source": [
    "Modules's Importation"
   ]
  },
  {
   "cell_type": "code",
   "execution_count": 1,
   "metadata": {},
   "outputs": [],
   "source": [
    "import matplotlib.pyplot as plt\n",
    "import numpy as np\n",
    "import pandas as pd"
   ]
  },
  {
   "cell_type": "markdown",
   "metadata": {},
   "source": [
    "Loading data"
   ]
  },
  {
   "cell_type": "code",
   "execution_count": 2,
   "metadata": {},
   "outputs": [],
   "source": [
    "data = pd.read_csv('../data/1h_data_LO.csv', sep=';', header=None) "
   ]
  },
  {
   "cell_type": "code",
   "execution_count": 3,
   "metadata": {},
   "outputs": [
    {
     "name": "stdout",
     "output_type": "stream",
     "text": [
      "Index([0, 1, 2, 3], dtype='int64')\n",
      "Nombre de colonnes : 4\n"
     ]
    }
   ],
   "source": [
    "print(data.columns)\n",
    "print(f\"Nombre de colonnes : {len(data.columns)}\")\n"
   ]
  },
  {
   "cell_type": "markdown",
   "metadata": {},
   "source": [
    "Parameters and pre-process"
   ]
  },
  {
   "cell_type": "code",
   "execution_count": 4,
   "metadata": {},
   "outputs": [
    {
     "name": "stdout",
     "output_type": "stream",
     "text": [
      "                          Time         X         Y         Z\n",
      "0      1900-01-01 11:10:00.000  0.000000  0.000000  0.000000\n",
      "1      1900-01-01 11:10:00.019  0.000000  0.000000  0.000000\n",
      "2      1900-01-01 11:10:00.039  0.000000  0.000000  0.000000\n",
      "3      1900-01-01 11:10:00.059  0.000000  0.000000  0.000000\n",
      "4      1900-01-01 11:10:00.079  0.000000  0.000000  0.000000\n",
      "...                        ...       ...       ...       ...\n",
      "179995 1900-01-01 12:09:59.900 -0.390869  0.687500  0.609375\n",
      "179996 1900-01-01 12:09:59.920 -0.375000  0.702881  0.609375\n",
      "179997 1900-01-01 12:09:59.940 -0.374756  0.703125  0.609619\n",
      "179998 1900-01-01 12:09:59.960 -0.375732  0.702148  0.625488\n",
      "179999 1900-01-01 12:09:59.980 -0.390381  0.687500  0.623779\n",
      "\n",
      "[180000 rows x 4 columns]\n"
     ]
    }
   ],
   "source": [
    "data.columns = ['Time', 'X', 'Y', 'Z'] # Rename columns\n",
    "data['Time'] = pd.to_datetime(data['Time'], format='%H:%M:%S.%f') # Convert time columns \n",
    "print(data)\n",
    "\n",
    "data = data.iloc[::10, :] # Data sampling\n",
    "\n",
    "# Calculate ENMO\n",
    "data['Norme'] = np.sqrt(data['X']**2 + data['Y']**2 + data['Z']**2) # Calculate acceleration's norm\n",
    "data['Norme'] = np.maximum(data['Norme']-1,0) # Replace negative data by 0\n",
    "\n",
    "\n"
   ]
  },
  {
   "cell_type": "code",
   "execution_count": 5,
   "metadata": {},
   "outputs": [
    {
     "ename": "ValueError",
     "evalue": "could not convert string to float: ''",
     "output_type": "error",
     "traceback": [
      "\u001b[1;31m---------------------------------------------------------------------------\u001b[0m",
      "\u001b[1;31mValueError\u001b[0m                                Traceback (most recent call last)",
      "Cell \u001b[1;32mIn[5], line 1\u001b[0m\n\u001b[1;32m----> 1\u001b[0m epoch_duration \u001b[38;5;241m=\u001b[39m \u001b[38;5;28;43mfloat\u001b[39;49m\u001b[43m(\u001b[49m\u001b[38;5;28;43minput\u001b[39;49m\u001b[43m(\u001b[49m\u001b[38;5;124;43m\"\u001b[39;49m\u001b[38;5;124;43mEpoch duration in seconds : \u001b[39;49m\u001b[38;5;124;43m\"\u001b[39;49m\u001b[43m)\u001b[49m\u001b[43m)\u001b[49m \u001b[38;5;66;03m# Ask for epoch duration in seconds\u001b[39;00m\n\u001b[0;32m      2\u001b[0m sampling_rate \u001b[38;5;241m=\u001b[39m \u001b[38;5;241m1\u001b[39m \u001b[38;5;241m/\u001b[39m (data[\u001b[38;5;124m'\u001b[39m\u001b[38;5;124mTime\u001b[39m\u001b[38;5;124m'\u001b[39m][\u001b[38;5;241m1\u001b[39m] \u001b[38;5;241m-\u001b[39m data[\u001b[38;5;124m'\u001b[39m\u001b[38;5;124mTime\u001b[39m\u001b[38;5;124m'\u001b[39m][\u001b[38;5;241m0\u001b[39m]) \u001b[38;5;66;03m# Define the sampling rate\u001b[39;00m\n\u001b[0;32m      3\u001b[0m epoch_samples \u001b[38;5;241m=\u001b[39m \u001b[38;5;28mint\u001b[39m(epoch_duration \u001b[38;5;241m*\u001b[39m sampling_rate) \u001b[38;5;66;03m# Calculate the epoch sampling\u001b[39;00m\n",
      "\u001b[1;31mValueError\u001b[0m: could not convert string to float: ''"
     ]
    }
   ],
   "source": [
    "epoch_duration = float(input(\"Epoch duration in seconds : \")) # Ask for epoch duration in seconds\n",
    "sampling_rate = 1 / (data['Time'][1] - data['Time'][0]) # Define the sampling rate\n",
    "epoch_samples = int(epoch_duration * sampling_rate) # Calculate the epoch sampling\n",
    "data['ENMO_epoch'] = data['Norme'].rolling(window=epoch_samples).mean() # Aply a mean to epochs\n"
   ]
  },
  {
   "cell_type": "markdown",
   "metadata": {},
   "source": [
    "Ploting"
   ]
  },
  {
   "cell_type": "code",
   "execution_count": null,
   "metadata": {},
   "outputs": [],
   "source": [
    "# 4. Tracer les graphiques\n",
    "plt.figure(figsize=(10, 6))\n",
    "\n",
    "# Tracer les accélérations X, Y, Z en fonction du temps\n",
    "plt.subplot(2, 1, 1)\n",
    "plt.plot(data['Time'], data['X'], label='X', color='r')\n",
    "plt.plot(data['Time'], data['Y'], label='Y', color='g')\n",
    "plt.plot(data['Time'], data['Z'], label='Z', color='b')\n",
    "plt.title('Accélération selon X, Y et Z en fonction du temps')\n",
    "plt.xlabel('Temps (s)')\n",
    "plt.ylabel('Accélération (G)')\n",
    "plt.legend()\n",
    "\n",
    "# Tracer la norme ENMO de l'accélération en fonction du temps\n",
    "plt.subplot(2, 1, 2)\n",
    "plt.plot(data['Time'], data['Norme'], label='ENMO (Norme - 1)', color='purple')\n",
    "plt.title('ENMO de l\\'accélération en fonction du temps')\n",
    "plt.xlabel('Temps (s)')\n",
    "plt.ylabel('Accélération (G)')\n",
    "plt.legend()\n",
    "\n",
    "# Afficher les graphiques\n",
    "# plt.tight_layout()\n",
    "plt.show()  # Forcer l'affichage des graphiques\n"
   ]
  }
 ],
 "metadata": {
  "kernelspec": {
   "display_name": "Python 3",
   "language": "python",
   "name": "python3"
  },
  "language_info": {
   "codemirror_mode": {
    "name": "ipython",
    "version": 3
   },
   "file_extension": ".py",
   "mimetype": "text/x-python",
   "name": "python",
   "nbconvert_exporter": "python",
   "pygments_lexer": "ipython3",
   "version": "3.10.7"
  }
 },
 "nbformat": 4,
 "nbformat_minor": 2
}
